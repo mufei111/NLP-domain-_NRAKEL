{
 "cells": [
  {
   "cell_type": "code",
   "execution_count": 2,
   "metadata": {},
   "outputs": [
    {
     "name": "stdout",
     "output_type": "stream",
     "text": [
      "1020904022\n"
     ]
    },
    {
     "data": {
      "text/plain": [
       "<function TextIOWrapper.close()>"
      ]
     },
     "execution_count": 2,
     "metadata": {},
     "output_type": "execute_result"
    }
   ],
   "source": [
    "with open('new.txt','a') as n:\n",
    "    with open('protein2ipr.txt') as f:\n",
    "        count = 0\n",
    "        for line in f:\n",
    "            count += 1\n",
    "            line = line.split('\\t')\n",
    "            fir = line[0]\n",
    "            sec = line[1]\n",
    "            n.write(fir+'\\t'+sec+'\\n')\n",
    "        print(count)\n",
    "    f.close\n",
    "n.close"
   ]
  },
  {
   "cell_type": "code",
   "execution_count": 1,
   "metadata": {},
   "outputs": [],
   "source": [
    "dic = {}\n",
    "with open('res.csv') as f:\n",
    "    for line in f:\n",
    "        line = line.split(',')\n",
    "        fir = line[0]\n",
    "        dic[fir] = []"
   ]
  },
  {
   "cell_type": "code",
   "execution_count": 2,
   "metadata": {},
   "outputs": [
    {
     "name": "stdout",
     "output_type": "stream",
     "text": [
      "171472\n"
     ]
    }
   ],
   "source": [
    "print(len(dic))"
   ]
  },
  {
   "cell_type": "code",
   "execution_count": 3,
   "metadata": {},
   "outputs": [],
   "source": [
    "with open('res.csv') as f:\n",
    "    for line in f:\n",
    "        line = line.split(',')\n",
    "        fir = line[0]\n",
    "        sec = line[1][:-1]\n",
    "        dic[fir].append(sec)"
   ]
  },
  {
   "cell_type": "code",
   "execution_count": 5,
   "metadata": {},
   "outputs": [],
   "source": [
    "with open('fin2.csv','a') as r:\n",
    "    for key,val in dic.items():\n",
    "        r.write(key + ',' + ','.join(val) + '\\n')"
   ]
  },
  {
   "cell_type": "code",
   "execution_count": null,
   "metadata": {},
   "outputs": [],
   "source": []
  }
 ],
 "metadata": {
  "kernelspec": {
   "display_name": "Python 3",
   "language": "python",
   "name": "python3"
  },
  "language_info": {
   "codemirror_mode": {
    "name": "ipython",
    "version": 3
   },
   "file_extension": ".py",
   "mimetype": "text/x-python",
   "name": "python",
   "nbconvert_exporter": "python",
   "pygments_lexer": "ipython3",
   "version": "3.7.0"
  }
 },
 "nbformat": 4,
 "nbformat_minor": 4
}
